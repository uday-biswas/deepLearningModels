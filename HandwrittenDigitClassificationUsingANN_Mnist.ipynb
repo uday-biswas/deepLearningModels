{
 "cells": [
  {
   "cell_type": "code",
   "execution_count": 1,
   "id": "cb955a45",
   "metadata": {
    "_cell_guid": "b1076dfc-b9ad-4769-8c92-a6c4dae69d19",
    "_uuid": "8f2839f25d086af736a60e9eeb907d3b93b6e0e5",
    "execution": {
     "iopub.execute_input": "2024-02-09T19:42:38.673429Z",
     "iopub.status.busy": "2024-02-09T19:42:38.672099Z",
     "iopub.status.idle": "2024-02-09T19:42:38.687347Z",
     "shell.execute_reply": "2024-02-09T19:42:38.687763Z",
     "shell.execute_reply.started": "2024-02-09T16:32:52.622827Z"
    },
    "papermill": {
     "duration": 0.04252,
     "end_time": "2024-02-09T19:42:38.687950",
     "exception": false,
     "start_time": "2024-02-09T19:42:38.645430",
     "status": "completed"
    },
    "tags": []
   },
   "outputs": [
    {
     "name": "stdout",
     "output_type": "stream",
     "text": [
      "/kaggle/input/credit-card-customer-churn-prediction/Churn_Modelling.csv\n"
     ]
    }
   ],
   "source": [
    "# This Python 3 environment comes with many helpful analytics libraries installed\n",
    "# It is defined by the kaggle/python Docker image: https://github.com/kaggle/docker-python\n",
    "# For example, here's several helpful packages to load\n",
    "\n",
    "import numpy as np # linear algebra\n",
    "import pandas as pd # data processing, CSV file I/O (e.g. pd.read_csv)\n",
    "\n",
    "# Input data files are available in the read-only \"../input/\" directory\n",
    "# For example, running this (by clicking run or pressing Shift+Enter) will list all files under the input directory\n",
    "\n",
    "import os\n",
    "for dirname, _, filenames in os.walk('/kaggle/input'):\n",
    "    for filename in filenames:\n",
    "        print(os.path.join(dirname, filename))\n",
    "\n",
    "# You can write up to 20GB to the current directory (/kaggle/working/) that gets preserved as output when you create a version using \"Save & Run All\" \n",
    "# You can also write temporary files to /kaggle/temp/, but they won't be saved outside of the current session"
   ]
  },
  {
   "cell_type": "code",
   "execution_count": 2,
   "id": "d1cfb20a",
   "metadata": {
    "execution": {
     "iopub.execute_input": "2024-02-09T19:42:38.736050Z",
     "iopub.status.busy": "2024-02-09T19:42:38.735521Z",
     "iopub.status.idle": "2024-02-09T19:42:38.768361Z",
     "shell.execute_reply": "2024-02-09T19:42:38.767904Z",
     "shell.execute_reply.started": "2024-02-09T16:33:04.157167Z"
    },
    "papermill": {
     "duration": 0.057937,
     "end_time": "2024-02-09T19:42:38.768499",
     "exception": false,
     "start_time": "2024-02-09T19:42:38.710562",
     "status": "completed"
    },
    "tags": []
   },
   "outputs": [],
   "source": [
    "df = pd.read_csv('/kaggle/input/credit-card-customer-churn-prediction/Churn_Modelling.csv')"
   ]
  },
  {
   "cell_type": "code",
   "execution_count": 3,
   "id": "253ab751",
   "metadata": {
    "execution": {
     "iopub.execute_input": "2024-02-09T19:42:38.816891Z",
     "iopub.status.busy": "2024-02-09T19:42:38.816180Z",
     "iopub.status.idle": "2024-02-09T19:42:38.833874Z",
     "shell.execute_reply": "2024-02-09T19:42:38.834365Z",
     "shell.execute_reply.started": "2024-02-09T16:33:08.961382Z"
    },
    "papermill": {
     "duration": 0.042479,
     "end_time": "2024-02-09T19:42:38.834497",
     "exception": false,
     "start_time": "2024-02-09T19:42:38.792018",
     "status": "completed"
    },
    "tags": []
   },
   "outputs": [
    {
     "data": {
      "text/html": [
       "<div>\n",
       "<style scoped>\n",
       "    .dataframe tbody tr th:only-of-type {\n",
       "        vertical-align: middle;\n",
       "    }\n",
       "\n",
       "    .dataframe tbody tr th {\n",
       "        vertical-align: top;\n",
       "    }\n",
       "\n",
       "    .dataframe thead th {\n",
       "        text-align: right;\n",
       "    }\n",
       "</style>\n",
       "<table border=\"1\" class=\"dataframe\">\n",
       "  <thead>\n",
       "    <tr style=\"text-align: right;\">\n",
       "      <th></th>\n",
       "      <th>RowNumber</th>\n",
       "      <th>CustomerId</th>\n",
       "      <th>Surname</th>\n",
       "      <th>CreditScore</th>\n",
       "      <th>Geography</th>\n",
       "      <th>Gender</th>\n",
       "      <th>Age</th>\n",
       "      <th>Tenure</th>\n",
       "      <th>Balance</th>\n",
       "      <th>NumOfProducts</th>\n",
       "      <th>HasCrCard</th>\n",
       "      <th>IsActiveMember</th>\n",
       "      <th>EstimatedSalary</th>\n",
       "      <th>Exited</th>\n",
       "    </tr>\n",
       "  </thead>\n",
       "  <tbody>\n",
       "    <tr>\n",
       "      <th>0</th>\n",
       "      <td>1</td>\n",
       "      <td>15634602</td>\n",
       "      <td>Hargrave</td>\n",
       "      <td>619</td>\n",
       "      <td>France</td>\n",
       "      <td>Female</td>\n",
       "      <td>42</td>\n",
       "      <td>2</td>\n",
       "      <td>0.00</td>\n",
       "      <td>1</td>\n",
       "      <td>1</td>\n",
       "      <td>1</td>\n",
       "      <td>101348.88</td>\n",
       "      <td>1</td>\n",
       "    </tr>\n",
       "    <tr>\n",
       "      <th>1</th>\n",
       "      <td>2</td>\n",
       "      <td>15647311</td>\n",
       "      <td>Hill</td>\n",
       "      <td>608</td>\n",
       "      <td>Spain</td>\n",
       "      <td>Female</td>\n",
       "      <td>41</td>\n",
       "      <td>1</td>\n",
       "      <td>83807.86</td>\n",
       "      <td>1</td>\n",
       "      <td>0</td>\n",
       "      <td>1</td>\n",
       "      <td>112542.58</td>\n",
       "      <td>0</td>\n",
       "    </tr>\n",
       "    <tr>\n",
       "      <th>2</th>\n",
       "      <td>3</td>\n",
       "      <td>15619304</td>\n",
       "      <td>Onio</td>\n",
       "      <td>502</td>\n",
       "      <td>France</td>\n",
       "      <td>Female</td>\n",
       "      <td>42</td>\n",
       "      <td>8</td>\n",
       "      <td>159660.80</td>\n",
       "      <td>3</td>\n",
       "      <td>1</td>\n",
       "      <td>0</td>\n",
       "      <td>113931.57</td>\n",
       "      <td>1</td>\n",
       "    </tr>\n",
       "    <tr>\n",
       "      <th>3</th>\n",
       "      <td>4</td>\n",
       "      <td>15701354</td>\n",
       "      <td>Boni</td>\n",
       "      <td>699</td>\n",
       "      <td>France</td>\n",
       "      <td>Female</td>\n",
       "      <td>39</td>\n",
       "      <td>1</td>\n",
       "      <td>0.00</td>\n",
       "      <td>2</td>\n",
       "      <td>0</td>\n",
       "      <td>0</td>\n",
       "      <td>93826.63</td>\n",
       "      <td>0</td>\n",
       "    </tr>\n",
       "    <tr>\n",
       "      <th>4</th>\n",
       "      <td>5</td>\n",
       "      <td>15737888</td>\n",
       "      <td>Mitchell</td>\n",
       "      <td>850</td>\n",
       "      <td>Spain</td>\n",
       "      <td>Female</td>\n",
       "      <td>43</td>\n",
       "      <td>2</td>\n",
       "      <td>125510.82</td>\n",
       "      <td>1</td>\n",
       "      <td>1</td>\n",
       "      <td>1</td>\n",
       "      <td>79084.10</td>\n",
       "      <td>0</td>\n",
       "    </tr>\n",
       "  </tbody>\n",
       "</table>\n",
       "</div>"
      ],
      "text/plain": [
       "   RowNumber  CustomerId   Surname  CreditScore Geography  Gender  Age  \\\n",
       "0          1    15634602  Hargrave          619    France  Female   42   \n",
       "1          2    15647311      Hill          608     Spain  Female   41   \n",
       "2          3    15619304      Onio          502    France  Female   42   \n",
       "3          4    15701354      Boni          699    France  Female   39   \n",
       "4          5    15737888  Mitchell          850     Spain  Female   43   \n",
       "\n",
       "   Tenure    Balance  NumOfProducts  HasCrCard  IsActiveMember  \\\n",
       "0       2       0.00              1          1               1   \n",
       "1       1   83807.86              1          0               1   \n",
       "2       8  159660.80              3          1               0   \n",
       "3       1       0.00              2          0               0   \n",
       "4       2  125510.82              1          1               1   \n",
       "\n",
       "   EstimatedSalary  Exited  \n",
       "0        101348.88       1  \n",
       "1        112542.58       0  \n",
       "2        113931.57       1  \n",
       "3         93826.63       0  \n",
       "4         79084.10       0  "
      ]
     },
     "execution_count": 3,
     "metadata": {},
     "output_type": "execute_result"
    }
   ],
   "source": [
    "df.head()"
   ]
  },
  {
   "cell_type": "code",
   "execution_count": 4,
   "id": "081e7c20",
   "metadata": {
    "execution": {
     "iopub.execute_input": "2024-02-09T19:42:38.883182Z",
     "iopub.status.busy": "2024-02-09T19:42:38.882507Z",
     "iopub.status.idle": "2024-02-09T19:42:38.889967Z",
     "shell.execute_reply": "2024-02-09T19:42:38.890462Z",
     "shell.execute_reply.started": "2024-02-09T16:33:13.901126Z"
    },
    "papermill": {
     "duration": 0.032838,
     "end_time": "2024-02-09T19:42:38.890583",
     "exception": false,
     "start_time": "2024-02-09T19:42:38.857745",
     "status": "completed"
    },
    "tags": []
   },
   "outputs": [],
   "source": [
    "df.drop(columns = ['RowNumber','CustomerId','Surname'],inplace=True)"
   ]
  },
  {
   "cell_type": "code",
   "execution_count": 5,
   "id": "d305c461",
   "metadata": {
    "execution": {
     "iopub.execute_input": "2024-02-09T19:42:38.939364Z",
     "iopub.status.busy": "2024-02-09T19:42:38.938652Z",
     "iopub.status.idle": "2024-02-09T19:42:38.949272Z",
     "shell.execute_reply": "2024-02-09T19:42:38.949717Z",
     "shell.execute_reply.started": "2024-02-09T16:33:19.141899Z"
    },
    "papermill": {
     "duration": 0.035422,
     "end_time": "2024-02-09T19:42:38.949845",
     "exception": false,
     "start_time": "2024-02-09T19:42:38.914423",
     "status": "completed"
    },
    "tags": []
   },
   "outputs": [
    {
     "data": {
      "text/html": [
       "<div>\n",
       "<style scoped>\n",
       "    .dataframe tbody tr th:only-of-type {\n",
       "        vertical-align: middle;\n",
       "    }\n",
       "\n",
       "    .dataframe tbody tr th {\n",
       "        vertical-align: top;\n",
       "    }\n",
       "\n",
       "    .dataframe thead th {\n",
       "        text-align: right;\n",
       "    }\n",
       "</style>\n",
       "<table border=\"1\" class=\"dataframe\">\n",
       "  <thead>\n",
       "    <tr style=\"text-align: right;\">\n",
       "      <th></th>\n",
       "      <th>CreditScore</th>\n",
       "      <th>Geography</th>\n",
       "      <th>Gender</th>\n",
       "      <th>Age</th>\n",
       "      <th>Tenure</th>\n",
       "      <th>Balance</th>\n",
       "      <th>NumOfProducts</th>\n",
       "      <th>HasCrCard</th>\n",
       "      <th>IsActiveMember</th>\n",
       "      <th>EstimatedSalary</th>\n",
       "      <th>Exited</th>\n",
       "    </tr>\n",
       "  </thead>\n",
       "  <tbody>\n",
       "    <tr>\n",
       "      <th>0</th>\n",
       "      <td>619</td>\n",
       "      <td>France</td>\n",
       "      <td>Female</td>\n",
       "      <td>42</td>\n",
       "      <td>2</td>\n",
       "      <td>0.00</td>\n",
       "      <td>1</td>\n",
       "      <td>1</td>\n",
       "      <td>1</td>\n",
       "      <td>101348.88</td>\n",
       "      <td>1</td>\n",
       "    </tr>\n",
       "    <tr>\n",
       "      <th>1</th>\n",
       "      <td>608</td>\n",
       "      <td>Spain</td>\n",
       "      <td>Female</td>\n",
       "      <td>41</td>\n",
       "      <td>1</td>\n",
       "      <td>83807.86</td>\n",
       "      <td>1</td>\n",
       "      <td>0</td>\n",
       "      <td>1</td>\n",
       "      <td>112542.58</td>\n",
       "      <td>0</td>\n",
       "    </tr>\n",
       "    <tr>\n",
       "      <th>2</th>\n",
       "      <td>502</td>\n",
       "      <td>France</td>\n",
       "      <td>Female</td>\n",
       "      <td>42</td>\n",
       "      <td>8</td>\n",
       "      <td>159660.80</td>\n",
       "      <td>3</td>\n",
       "      <td>1</td>\n",
       "      <td>0</td>\n",
       "      <td>113931.57</td>\n",
       "      <td>1</td>\n",
       "    </tr>\n",
       "    <tr>\n",
       "      <th>3</th>\n",
       "      <td>699</td>\n",
       "      <td>France</td>\n",
       "      <td>Female</td>\n",
       "      <td>39</td>\n",
       "      <td>1</td>\n",
       "      <td>0.00</td>\n",
       "      <td>2</td>\n",
       "      <td>0</td>\n",
       "      <td>0</td>\n",
       "      <td>93826.63</td>\n",
       "      <td>0</td>\n",
       "    </tr>\n",
       "    <tr>\n",
       "      <th>4</th>\n",
       "      <td>850</td>\n",
       "      <td>Spain</td>\n",
       "      <td>Female</td>\n",
       "      <td>43</td>\n",
       "      <td>2</td>\n",
       "      <td>125510.82</td>\n",
       "      <td>1</td>\n",
       "      <td>1</td>\n",
       "      <td>1</td>\n",
       "      <td>79084.10</td>\n",
       "      <td>0</td>\n",
       "    </tr>\n",
       "  </tbody>\n",
       "</table>\n",
       "</div>"
      ],
      "text/plain": [
       "   CreditScore Geography  Gender  Age  Tenure    Balance  NumOfProducts  \\\n",
       "0          619    France  Female   42       2       0.00              1   \n",
       "1          608     Spain  Female   41       1   83807.86              1   \n",
       "2          502    France  Female   42       8  159660.80              3   \n",
       "3          699    France  Female   39       1       0.00              2   \n",
       "4          850     Spain  Female   43       2  125510.82              1   \n",
       "\n",
       "   HasCrCard  IsActiveMember  EstimatedSalary  Exited  \n",
       "0          1               1        101348.88       1  \n",
       "1          0               1        112542.58       0  \n",
       "2          1               0        113931.57       1  \n",
       "3          0               0         93826.63       0  \n",
       "4          1               1         79084.10       0  "
      ]
     },
     "execution_count": 5,
     "metadata": {},
     "output_type": "execute_result"
    }
   ],
   "source": [
    "df.head()"
   ]
  },
  {
   "cell_type": "code",
   "execution_count": 6,
   "id": "b289366b",
   "metadata": {
    "execution": {
     "iopub.execute_input": "2024-02-09T19:42:38.999982Z",
     "iopub.status.busy": "2024-02-09T19:42:38.999354Z",
     "iopub.status.idle": "2024-02-09T19:42:39.006588Z",
     "shell.execute_reply": "2024-02-09T19:42:39.006991Z",
     "shell.execute_reply.started": "2024-02-09T16:33:27.746667Z"
    },
    "papermill": {
     "duration": 0.033396,
     "end_time": "2024-02-09T19:42:39.007104",
     "exception": false,
     "start_time": "2024-02-09T19:42:38.973708",
     "status": "completed"
    },
    "tags": []
   },
   "outputs": [
    {
     "data": {
      "text/plain": [
       "France     5014\n",
       "Germany    2509\n",
       "Spain      2477\n",
       "Name: Geography, dtype: int64"
      ]
     },
     "execution_count": 6,
     "metadata": {},
     "output_type": "execute_result"
    }
   ],
   "source": [
    "df['Geography'].value_counts()"
   ]
  },
  {
   "cell_type": "code",
   "execution_count": 7,
   "id": "a0a06796",
   "metadata": {
    "execution": {
     "iopub.execute_input": "2024-02-09T19:42:39.059080Z",
     "iopub.status.busy": "2024-02-09T19:42:39.058429Z",
     "iopub.status.idle": "2024-02-09T19:42:39.063788Z",
     "shell.execute_reply": "2024-02-09T19:42:39.064175Z",
     "shell.execute_reply.started": "2024-02-09T16:33:48.741948Z"
    },
    "papermill": {
     "duration": 0.031503,
     "end_time": "2024-02-09T19:42:39.064299",
     "exception": false,
     "start_time": "2024-02-09T19:42:39.032796",
     "status": "completed"
    },
    "tags": []
   },
   "outputs": [
    {
     "data": {
      "text/plain": [
       "Male      5457\n",
       "Female    4543\n",
       "Name: Gender, dtype: int64"
      ]
     },
     "execution_count": 7,
     "metadata": {},
     "output_type": "execute_result"
    }
   ],
   "source": [
    "df['Gender'].value_counts()"
   ]
  },
  {
   "cell_type": "code",
   "execution_count": 8,
   "id": "35f2f7fc",
   "metadata": {
    "execution": {
     "iopub.execute_input": "2024-02-09T19:42:39.119199Z",
     "iopub.status.busy": "2024-02-09T19:42:39.118525Z",
     "iopub.status.idle": "2024-02-09T19:42:39.124720Z",
     "shell.execute_reply": "2024-02-09T19:42:39.125110Z",
     "shell.execute_reply.started": "2024-02-09T16:33:57.676413Z"
    },
    "papermill": {
     "duration": 0.036554,
     "end_time": "2024-02-09T19:42:39.125221",
     "exception": false,
     "start_time": "2024-02-09T19:42:39.088667",
     "status": "completed"
    },
    "tags": []
   },
   "outputs": [],
   "source": [
    "# getting dummy integer values in place of object values of geography and gender values\n",
    "df = pd.get_dummies(df,columns=['Geography','Gender'],drop_first=True) "
   ]
  },
  {
   "cell_type": "code",
   "execution_count": 9,
   "id": "7afa437c",
   "metadata": {
    "execution": {
     "iopub.execute_input": "2024-02-09T19:42:39.176237Z",
     "iopub.status.busy": "2024-02-09T19:42:39.175567Z",
     "iopub.status.idle": "2024-02-09T19:42:39.186498Z",
     "shell.execute_reply": "2024-02-09T19:42:39.186036Z",
     "shell.execute_reply.started": "2024-02-09T16:34:05.731889Z"
    },
    "papermill": {
     "duration": 0.036864,
     "end_time": "2024-02-09T19:42:39.186593",
     "exception": false,
     "start_time": "2024-02-09T19:42:39.149729",
     "status": "completed"
    },
    "tags": []
   },
   "outputs": [
    {
     "data": {
      "text/html": [
       "<div>\n",
       "<style scoped>\n",
       "    .dataframe tbody tr th:only-of-type {\n",
       "        vertical-align: middle;\n",
       "    }\n",
       "\n",
       "    .dataframe tbody tr th {\n",
       "        vertical-align: top;\n",
       "    }\n",
       "\n",
       "    .dataframe thead th {\n",
       "        text-align: right;\n",
       "    }\n",
       "</style>\n",
       "<table border=\"1\" class=\"dataframe\">\n",
       "  <thead>\n",
       "    <tr style=\"text-align: right;\">\n",
       "      <th></th>\n",
       "      <th>CreditScore</th>\n",
       "      <th>Age</th>\n",
       "      <th>Tenure</th>\n",
       "      <th>Balance</th>\n",
       "      <th>NumOfProducts</th>\n",
       "      <th>HasCrCard</th>\n",
       "      <th>IsActiveMember</th>\n",
       "      <th>EstimatedSalary</th>\n",
       "      <th>Exited</th>\n",
       "      <th>Geography_Germany</th>\n",
       "      <th>Geography_Spain</th>\n",
       "      <th>Gender_Male</th>\n",
       "    </tr>\n",
       "  </thead>\n",
       "  <tbody>\n",
       "    <tr>\n",
       "      <th>0</th>\n",
       "      <td>619</td>\n",
       "      <td>42</td>\n",
       "      <td>2</td>\n",
       "      <td>0.00</td>\n",
       "      <td>1</td>\n",
       "      <td>1</td>\n",
       "      <td>1</td>\n",
       "      <td>101348.88</td>\n",
       "      <td>1</td>\n",
       "      <td>0</td>\n",
       "      <td>0</td>\n",
       "      <td>0</td>\n",
       "    </tr>\n",
       "    <tr>\n",
       "      <th>1</th>\n",
       "      <td>608</td>\n",
       "      <td>41</td>\n",
       "      <td>1</td>\n",
       "      <td>83807.86</td>\n",
       "      <td>1</td>\n",
       "      <td>0</td>\n",
       "      <td>1</td>\n",
       "      <td>112542.58</td>\n",
       "      <td>0</td>\n",
       "      <td>0</td>\n",
       "      <td>1</td>\n",
       "      <td>0</td>\n",
       "    </tr>\n",
       "    <tr>\n",
       "      <th>2</th>\n",
       "      <td>502</td>\n",
       "      <td>42</td>\n",
       "      <td>8</td>\n",
       "      <td>159660.80</td>\n",
       "      <td>3</td>\n",
       "      <td>1</td>\n",
       "      <td>0</td>\n",
       "      <td>113931.57</td>\n",
       "      <td>1</td>\n",
       "      <td>0</td>\n",
       "      <td>0</td>\n",
       "      <td>0</td>\n",
       "    </tr>\n",
       "    <tr>\n",
       "      <th>3</th>\n",
       "      <td>699</td>\n",
       "      <td>39</td>\n",
       "      <td>1</td>\n",
       "      <td>0.00</td>\n",
       "      <td>2</td>\n",
       "      <td>0</td>\n",
       "      <td>0</td>\n",
       "      <td>93826.63</td>\n",
       "      <td>0</td>\n",
       "      <td>0</td>\n",
       "      <td>0</td>\n",
       "      <td>0</td>\n",
       "    </tr>\n",
       "    <tr>\n",
       "      <th>4</th>\n",
       "      <td>850</td>\n",
       "      <td>43</td>\n",
       "      <td>2</td>\n",
       "      <td>125510.82</td>\n",
       "      <td>1</td>\n",
       "      <td>1</td>\n",
       "      <td>1</td>\n",
       "      <td>79084.10</td>\n",
       "      <td>0</td>\n",
       "      <td>0</td>\n",
       "      <td>1</td>\n",
       "      <td>0</td>\n",
       "    </tr>\n",
       "  </tbody>\n",
       "</table>\n",
       "</div>"
      ],
      "text/plain": [
       "   CreditScore  Age  Tenure    Balance  NumOfProducts  HasCrCard  \\\n",
       "0          619   42       2       0.00              1          1   \n",
       "1          608   41       1   83807.86              1          0   \n",
       "2          502   42       8  159660.80              3          1   \n",
       "3          699   39       1       0.00              2          0   \n",
       "4          850   43       2  125510.82              1          1   \n",
       "\n",
       "   IsActiveMember  EstimatedSalary  Exited  Geography_Germany  \\\n",
       "0               1        101348.88       1                  0   \n",
       "1               1        112542.58       0                  0   \n",
       "2               0        113931.57       1                  0   \n",
       "3               0         93826.63       0                  0   \n",
       "4               1         79084.10       0                  0   \n",
       "\n",
       "   Geography_Spain  Gender_Male  \n",
       "0                0            0  \n",
       "1                1            0  \n",
       "2                0            0  \n",
       "3                0            0  \n",
       "4                1            0  "
      ]
     },
     "execution_count": 9,
     "metadata": {},
     "output_type": "execute_result"
    }
   ],
   "source": [
    "df.head()"
   ]
  },
  {
   "cell_type": "code",
   "execution_count": 10,
   "id": "332179e6",
   "metadata": {
    "execution": {
     "iopub.execute_input": "2024-02-09T19:42:39.241459Z",
     "iopub.status.busy": "2024-02-09T19:42:39.240879Z",
     "iopub.status.idle": "2024-02-09T19:42:40.035930Z",
     "shell.execute_reply": "2024-02-09T19:42:40.035219Z",
     "shell.execute_reply.started": "2024-02-09T16:34:23.993747Z"
    },
    "papermill": {
     "duration": 0.824696,
     "end_time": "2024-02-09T19:42:40.036049",
     "exception": false,
     "start_time": "2024-02-09T19:42:39.211353",
     "status": "completed"
    },
    "tags": []
   },
   "outputs": [],
   "source": [
    "X = df.drop(columns=['Exited'])   #taking inputs\n",
    "y = df['Exited'].values           #output\n",
    "\n",
    "from sklearn.model_selection import train_test_split\n",
    "\n",
    "#splitting training and testing data in 80% and 20%\n",
    "X_train,X_test,y_train,y_test = train_test_split(X,y,test_size=0.2,random_state=0)"
   ]
  },
  {
   "cell_type": "code",
   "execution_count": 11,
   "id": "2c2f77e7",
   "metadata": {
    "execution": {
     "iopub.execute_input": "2024-02-09T19:42:40.091852Z",
     "iopub.status.busy": "2024-02-09T19:42:40.091062Z",
     "iopub.status.idle": "2024-02-09T19:42:40.097015Z",
     "shell.execute_reply": "2024-02-09T19:42:40.097466Z",
     "shell.execute_reply.started": "2024-02-09T16:34:36.225109Z"
    },
    "papermill": {
     "duration": 0.036485,
     "end_time": "2024-02-09T19:42:40.097611",
     "exception": false,
     "start_time": "2024-02-09T19:42:40.061126",
     "status": "completed"
    },
    "tags": []
   },
   "outputs": [],
   "source": [
    "from sklearn.preprocessing import StandardScaler\n",
    "scaler = StandardScaler()\n",
    "\n",
    "X_train_trf = scaler.fit_transform(X_train)   #scaling the data\n",
    "X_test_trf = scaler.transform(X_test)"
   ]
  },
  {
   "cell_type": "code",
   "execution_count": 12,
   "id": "d069b2b3",
   "metadata": {
    "execution": {
     "iopub.execute_input": "2024-02-09T19:42:40.150664Z",
     "iopub.status.busy": "2024-02-09T19:42:40.150157Z",
     "iopub.status.idle": "2024-02-09T19:42:40.152625Z",
     "shell.execute_reply": "2024-02-09T19:42:40.153084Z",
     "shell.execute_reply.started": "2024-02-09T17:27:35.578425Z"
    },
    "papermill": {
     "duration": 0.030971,
     "end_time": "2024-02-09T19:42:40.153199",
     "exception": false,
     "start_time": "2024-02-09T19:42:40.122228",
     "status": "completed"
    },
    "tags": []
   },
   "outputs": [
    {
     "data": {
      "text/plain": [
       "array([[ 0.16958176, -0.46460796,  0.00666099, ..., -0.5698444 ,\n",
       "         1.74309049, -1.09168714],\n",
       "       [-2.30455945,  0.30102557, -1.37744033, ...,  1.75486502,\n",
       "        -0.57369368,  0.91601335],\n",
       "       [-1.19119591, -0.94312892, -1.031415  , ..., -0.5698444 ,\n",
       "        -0.57369368, -1.09168714],\n",
       "       ...,\n",
       "       [ 0.9015152 , -0.36890377,  0.00666099, ..., -0.5698444 ,\n",
       "        -0.57369368,  0.91601335],\n",
       "       [-0.62420521, -0.08179119,  1.39076231, ..., -0.5698444 ,\n",
       "         1.74309049, -1.09168714],\n",
       "       [-0.28401079,  0.87525072, -1.37744033, ...,  1.75486502,\n",
       "        -0.57369368, -1.09168714]])"
      ]
     },
     "execution_count": 12,
     "metadata": {},
     "output_type": "execute_result"
    }
   ],
   "source": [
    "X_train_trf"
   ]
  },
  {
   "cell_type": "code",
   "execution_count": 13,
   "id": "b569a19e",
   "metadata": {
    "execution": {
     "iopub.execute_input": "2024-02-09T19:42:40.204155Z",
     "iopub.status.busy": "2024-02-09T19:42:40.203686Z",
     "iopub.status.idle": "2024-02-09T19:42:44.534346Z",
     "shell.execute_reply": "2024-02-09T19:42:44.534755Z",
     "shell.execute_reply.started": "2024-02-09T16:34:41.050983Z"
    },
    "papermill": {
     "duration": 4.357252,
     "end_time": "2024-02-09T19:42:44.534901",
     "exception": false,
     "start_time": "2024-02-09T19:42:40.177649",
     "status": "completed"
    },
    "tags": []
   },
   "outputs": [],
   "source": [
    "import tensorflow\n",
    "from tensorflow import keras\n",
    "from tensorflow.keras import Sequential \n",
    "from tensorflow.keras.layers import Dense"
   ]
  },
  {
   "cell_type": "code",
   "execution_count": 14,
   "id": "993e1513",
   "metadata": {
    "execution": {
     "iopub.execute_input": "2024-02-09T19:42:44.591165Z",
     "iopub.status.busy": "2024-02-09T19:42:44.590678Z",
     "iopub.status.idle": "2024-02-09T19:42:44.680851Z",
     "shell.execute_reply": "2024-02-09T19:42:44.680023Z",
     "shell.execute_reply.started": "2024-02-09T17:51:57.647363Z"
    },
    "papermill": {
     "duration": 0.12023,
     "end_time": "2024-02-09T19:42:44.680968",
     "exception": false,
     "start_time": "2024-02-09T19:42:44.560738",
     "status": "completed"
    },
    "tags": []
   },
   "outputs": [],
   "source": [
    "#designing model\n",
    "model = Sequential()     \n",
    "\n",
    "model.add(Dense(11,activation='relu',input_dim=11))   #input layer with 11 input dimensions\n",
    "model.add(Dense(11,activation='relu'))              #1st hidden layer\n",
    "model.add(Dense(1,activation='sigmoid'))               #output layer"
   ]
  },
  {
   "cell_type": "code",
   "execution_count": 15,
   "id": "3c8a3124",
   "metadata": {
    "execution": {
     "iopub.execute_input": "2024-02-09T19:42:44.736542Z",
     "iopub.status.busy": "2024-02-09T19:42:44.736002Z",
     "iopub.status.idle": "2024-02-09T19:42:44.737954Z",
     "shell.execute_reply": "2024-02-09T19:42:44.738363Z",
     "shell.execute_reply.started": "2024-02-09T17:52:03.512732Z"
    },
    "papermill": {
     "duration": 0.031998,
     "end_time": "2024-02-09T19:42:44.738496",
     "exception": false,
     "start_time": "2024-02-09T19:42:44.706498",
     "status": "completed"
    },
    "tags": []
   },
   "outputs": [
    {
     "name": "stdout",
     "output_type": "stream",
     "text": [
      "Model: \"sequential\"\n",
      "_________________________________________________________________\n",
      "Layer (type)                 Output Shape              Param #   \n",
      "=================================================================\n",
      "dense (Dense)                (None, 11)                132       \n",
      "_________________________________________________________________\n",
      "dense_1 (Dense)              (None, 11)                132       \n",
      "_________________________________________________________________\n",
      "dense_2 (Dense)              (None, 1)                 12        \n",
      "=================================================================\n",
      "Total params: 276\n",
      "Trainable params: 276\n",
      "Non-trainable params: 0\n",
      "_________________________________________________________________\n"
     ]
    }
   ],
   "source": [
    "model.summary()"
   ]
  },
  {
   "cell_type": "code",
   "execution_count": 16,
   "id": "4c190953",
   "metadata": {
    "execution": {
     "iopub.execute_input": "2024-02-09T19:42:44.795225Z",
     "iopub.status.busy": "2024-02-09T19:42:44.794757Z",
     "iopub.status.idle": "2024-02-09T19:42:44.798769Z",
     "shell.execute_reply": "2024-02-09T19:42:44.799190Z",
     "shell.execute_reply.started": "2024-02-09T17:52:13.309351Z"
    },
    "papermill": {
     "duration": 0.035391,
     "end_time": "2024-02-09T19:42:44.799328",
     "exception": false,
     "start_time": "2024-02-09T19:42:44.763937",
     "status": "completed"
    },
    "tags": []
   },
   "outputs": [],
   "source": [
    "#compiling model\n",
    "model.compile(optimizer='Adam',loss='binary_crossentropy',metrics=['accuracy'])"
   ]
  },
  {
   "cell_type": "code",
   "execution_count": 17,
   "id": "e2a415ab",
   "metadata": {
    "execution": {
     "iopub.execute_input": "2024-02-09T19:42:44.851563Z",
     "iopub.status.busy": "2024-02-09T19:42:44.851074Z",
     "iopub.status.idle": "2024-02-09T19:43:05.796119Z",
     "shell.execute_reply": "2024-02-09T19:43:05.796588Z",
     "shell.execute_reply.started": "2024-02-09T17:55:15.756641Z"
    },
    "papermill": {
     "duration": 20.972003,
     "end_time": "2024-02-09T19:43:05.796733",
     "exception": false,
     "start_time": "2024-02-09T19:42:44.824730",
     "status": "completed"
    },
    "tags": []
   },
   "outputs": [
    {
     "name": "stdout",
     "output_type": "stream",
     "text": [
      "Epoch 1/100\n",
      "128/128 [==============================] - 1s 3ms/step - loss: 0.6425 - accuracy: 0.6641 - val_loss: 0.5315 - val_accuracy: 0.7894\n",
      "Epoch 2/100\n",
      "128/128 [==============================] - 0s 1ms/step - loss: 0.4998 - accuracy: 0.7977 - val_loss: 0.4799 - val_accuracy: 0.8000\n",
      "Epoch 3/100\n",
      "128/128 [==============================] - 0s 1ms/step - loss: 0.4637 - accuracy: 0.8025 - val_loss: 0.4550 - val_accuracy: 0.8019\n",
      "Epoch 4/100\n",
      "128/128 [==============================] - 0s 1ms/step - loss: 0.4436 - accuracy: 0.8075 - val_loss: 0.4421 - val_accuracy: 0.8037\n",
      "Epoch 5/100\n",
      "128/128 [==============================] - 0s 1ms/step - loss: 0.4311 - accuracy: 0.8119 - val_loss: 0.4340 - val_accuracy: 0.8087\n",
      "Epoch 6/100\n",
      "128/128 [==============================] - 0s 1ms/step - loss: 0.4231 - accuracy: 0.8177 - val_loss: 0.4283 - val_accuracy: 0.8125\n",
      "Epoch 7/100\n",
      "128/128 [==============================] - 0s 1ms/step - loss: 0.4166 - accuracy: 0.8197 - val_loss: 0.4235 - val_accuracy: 0.8163\n",
      "Epoch 8/100\n",
      "128/128 [==============================] - 0s 1ms/step - loss: 0.4118 - accuracy: 0.8214 - val_loss: 0.4194 - val_accuracy: 0.8188\n",
      "Epoch 9/100\n",
      "128/128 [==============================] - 0s 1ms/step - loss: 0.4076 - accuracy: 0.8227 - val_loss: 0.4164 - val_accuracy: 0.8156\n",
      "Epoch 10/100\n",
      "128/128 [==============================] - 0s 1ms/step - loss: 0.4043 - accuracy: 0.8236 - val_loss: 0.4137 - val_accuracy: 0.8206\n",
      "Epoch 11/100\n",
      "128/128 [==============================] - 0s 1ms/step - loss: 0.4003 - accuracy: 0.8255 - val_loss: 0.4115 - val_accuracy: 0.8181\n",
      "Epoch 12/100\n",
      "128/128 [==============================] - 0s 1ms/step - loss: 0.3974 - accuracy: 0.8278 - val_loss: 0.4093 - val_accuracy: 0.8244\n",
      "Epoch 13/100\n",
      "128/128 [==============================] - 0s 1ms/step - loss: 0.3941 - accuracy: 0.8281 - val_loss: 0.4066 - val_accuracy: 0.8213\n",
      "Epoch 14/100\n",
      "128/128 [==============================] - 0s 1ms/step - loss: 0.3905 - accuracy: 0.8288 - val_loss: 0.4040 - val_accuracy: 0.8206\n",
      "Epoch 15/100\n",
      "128/128 [==============================] - 0s 1ms/step - loss: 0.3877 - accuracy: 0.8278 - val_loss: 0.4022 - val_accuracy: 0.8213\n",
      "Epoch 16/100\n",
      "128/128 [==============================] - 0s 1ms/step - loss: 0.3841 - accuracy: 0.8291 - val_loss: 0.3985 - val_accuracy: 0.8219\n",
      "Epoch 17/100\n",
      "128/128 [==============================] - 0s 1ms/step - loss: 0.3808 - accuracy: 0.8291 - val_loss: 0.3962 - val_accuracy: 0.8219\n",
      "Epoch 18/100\n",
      "128/128 [==============================] - 0s 1ms/step - loss: 0.3776 - accuracy: 0.8305 - val_loss: 0.3941 - val_accuracy: 0.8238\n",
      "Epoch 19/100\n",
      "128/128 [==============================] - 0s 1ms/step - loss: 0.3747 - accuracy: 0.8305 - val_loss: 0.3917 - val_accuracy: 0.8275\n",
      "Epoch 20/100\n",
      "128/128 [==============================] - 0s 1ms/step - loss: 0.3718 - accuracy: 0.8319 - val_loss: 0.3902 - val_accuracy: 0.8256\n",
      "Epoch 21/100\n",
      "128/128 [==============================] - 0s 1ms/step - loss: 0.3692 - accuracy: 0.8327 - val_loss: 0.3888 - val_accuracy: 0.8294\n",
      "Epoch 22/100\n",
      "128/128 [==============================] - 0s 1ms/step - loss: 0.3670 - accuracy: 0.8434 - val_loss: 0.3876 - val_accuracy: 0.8325\n",
      "Epoch 23/100\n",
      "128/128 [==============================] - 0s 1ms/step - loss: 0.3649 - accuracy: 0.8467 - val_loss: 0.3871 - val_accuracy: 0.8350\n",
      "Epoch 24/100\n",
      "128/128 [==============================] - 0s 1ms/step - loss: 0.3630 - accuracy: 0.8462 - val_loss: 0.3843 - val_accuracy: 0.8356\n",
      "Epoch 25/100\n",
      "128/128 [==============================] - 0s 2ms/step - loss: 0.3609 - accuracy: 0.8506 - val_loss: 0.3828 - val_accuracy: 0.8400\n",
      "Epoch 26/100\n",
      "128/128 [==============================] - 0s 1ms/step - loss: 0.3589 - accuracy: 0.8533 - val_loss: 0.3822 - val_accuracy: 0.8363\n",
      "Epoch 27/100\n",
      "128/128 [==============================] - 0s 1ms/step - loss: 0.3573 - accuracy: 0.8530 - val_loss: 0.3801 - val_accuracy: 0.8400\n",
      "Epoch 28/100\n",
      "128/128 [==============================] - 0s 1ms/step - loss: 0.3551 - accuracy: 0.8544 - val_loss: 0.3812 - val_accuracy: 0.8419\n",
      "Epoch 29/100\n",
      "128/128 [==============================] - 0s 1ms/step - loss: 0.3546 - accuracy: 0.8542 - val_loss: 0.3764 - val_accuracy: 0.8450\n",
      "Epoch 30/100\n",
      "128/128 [==============================] - 0s 1ms/step - loss: 0.3531 - accuracy: 0.8561 - val_loss: 0.3752 - val_accuracy: 0.8456\n",
      "Epoch 31/100\n",
      "128/128 [==============================] - 0s 1ms/step - loss: 0.3521 - accuracy: 0.8586 - val_loss: 0.3746 - val_accuracy: 0.8475\n",
      "Epoch 32/100\n",
      "128/128 [==============================] - 0s 1ms/step - loss: 0.3509 - accuracy: 0.8586 - val_loss: 0.3729 - val_accuracy: 0.8462\n",
      "Epoch 33/100\n",
      "128/128 [==============================] - 0s 1ms/step - loss: 0.3498 - accuracy: 0.8597 - val_loss: 0.3713 - val_accuracy: 0.8444\n",
      "Epoch 34/100\n",
      "128/128 [==============================] - 0s 1ms/step - loss: 0.3492 - accuracy: 0.8611 - val_loss: 0.3708 - val_accuracy: 0.8450\n",
      "Epoch 35/100\n",
      "128/128 [==============================] - 0s 1ms/step - loss: 0.3485 - accuracy: 0.8606 - val_loss: 0.3707 - val_accuracy: 0.8512\n",
      "Epoch 36/100\n",
      "128/128 [==============================] - 0s 1ms/step - loss: 0.3478 - accuracy: 0.8617 - val_loss: 0.3697 - val_accuracy: 0.8525\n",
      "Epoch 37/100\n",
      "128/128 [==============================] - 0s 1ms/step - loss: 0.3466 - accuracy: 0.8619 - val_loss: 0.3689 - val_accuracy: 0.8512\n",
      "Epoch 38/100\n",
      "128/128 [==============================] - 0s 1ms/step - loss: 0.3459 - accuracy: 0.8606 - val_loss: 0.3676 - val_accuracy: 0.8512\n",
      "Epoch 39/100\n",
      "128/128 [==============================] - 0s 1ms/step - loss: 0.3458 - accuracy: 0.8644 - val_loss: 0.3672 - val_accuracy: 0.8512\n",
      "Epoch 40/100\n",
      "128/128 [==============================] - 0s 1ms/step - loss: 0.3448 - accuracy: 0.8627 - val_loss: 0.3668 - val_accuracy: 0.8531\n",
      "Epoch 41/100\n",
      "128/128 [==============================] - 0s 1ms/step - loss: 0.3434 - accuracy: 0.8625 - val_loss: 0.3667 - val_accuracy: 0.8487\n",
      "Epoch 42/100\n",
      "128/128 [==============================] - 0s 1ms/step - loss: 0.3431 - accuracy: 0.8625 - val_loss: 0.3662 - val_accuracy: 0.8525\n",
      "Epoch 43/100\n",
      "128/128 [==============================] - 0s 1ms/step - loss: 0.3425 - accuracy: 0.8645 - val_loss: 0.3664 - val_accuracy: 0.8525\n",
      "Epoch 44/100\n",
      "128/128 [==============================] - 0s 1ms/step - loss: 0.3412 - accuracy: 0.8634 - val_loss: 0.3663 - val_accuracy: 0.8537\n",
      "Epoch 45/100\n",
      "128/128 [==============================] - 0s 1ms/step - loss: 0.3418 - accuracy: 0.8658 - val_loss: 0.3640 - val_accuracy: 0.8519\n",
      "Epoch 46/100\n",
      "128/128 [==============================] - 0s 1ms/step - loss: 0.3410 - accuracy: 0.8631 - val_loss: 0.3635 - val_accuracy: 0.8550\n",
      "Epoch 47/100\n",
      "128/128 [==============================] - 0s 1ms/step - loss: 0.3403 - accuracy: 0.8642 - val_loss: 0.3633 - val_accuracy: 0.8531\n",
      "Epoch 48/100\n",
      "128/128 [==============================] - 0s 1ms/step - loss: 0.3396 - accuracy: 0.8664 - val_loss: 0.3639 - val_accuracy: 0.8512\n",
      "Epoch 49/100\n",
      "128/128 [==============================] - 0s 1ms/step - loss: 0.3393 - accuracy: 0.8636 - val_loss: 0.3644 - val_accuracy: 0.8519\n",
      "Epoch 50/100\n",
      "128/128 [==============================] - 0s 1ms/step - loss: 0.3387 - accuracy: 0.8659 - val_loss: 0.3623 - val_accuracy: 0.8525\n",
      "Epoch 51/100\n",
      "128/128 [==============================] - 0s 1ms/step - loss: 0.3382 - accuracy: 0.8656 - val_loss: 0.3621 - val_accuracy: 0.8525\n",
      "Epoch 52/100\n",
      "128/128 [==============================] - 0s 1ms/step - loss: 0.3380 - accuracy: 0.8647 - val_loss: 0.3615 - val_accuracy: 0.8562\n",
      "Epoch 53/100\n",
      "128/128 [==============================] - 0s 1ms/step - loss: 0.3375 - accuracy: 0.8656 - val_loss: 0.3619 - val_accuracy: 0.8531\n",
      "Epoch 54/100\n",
      "128/128 [==============================] - 0s 1ms/step - loss: 0.3371 - accuracy: 0.8648 - val_loss: 0.3619 - val_accuracy: 0.8550\n",
      "Epoch 55/100\n",
      "128/128 [==============================] - 0s 1ms/step - loss: 0.3369 - accuracy: 0.8664 - val_loss: 0.3613 - val_accuracy: 0.8525\n",
      "Epoch 56/100\n",
      "128/128 [==============================] - 0s 1ms/step - loss: 0.3366 - accuracy: 0.8652 - val_loss: 0.3611 - val_accuracy: 0.8537\n",
      "Epoch 57/100\n",
      "128/128 [==============================] - 0s 1ms/step - loss: 0.3356 - accuracy: 0.8661 - val_loss: 0.3605 - val_accuracy: 0.8537\n",
      "Epoch 58/100\n",
      "128/128 [==============================] - 0s 1ms/step - loss: 0.3353 - accuracy: 0.8670 - val_loss: 0.3610 - val_accuracy: 0.8537\n",
      "Epoch 59/100\n",
      "128/128 [==============================] - 0s 1ms/step - loss: 0.3348 - accuracy: 0.8667 - val_loss: 0.3604 - val_accuracy: 0.8494\n",
      "Epoch 60/100\n",
      "128/128 [==============================] - 0s 1ms/step - loss: 0.3348 - accuracy: 0.8659 - val_loss: 0.3615 - val_accuracy: 0.8475\n",
      "Epoch 61/100\n",
      "128/128 [==============================] - 0s 1ms/step - loss: 0.3342 - accuracy: 0.8670 - val_loss: 0.3601 - val_accuracy: 0.8531\n",
      "Epoch 62/100\n",
      "128/128 [==============================] - 0s 1ms/step - loss: 0.3337 - accuracy: 0.8670 - val_loss: 0.3594 - val_accuracy: 0.8525\n",
      "Epoch 63/100\n",
      "128/128 [==============================] - 0s 1ms/step - loss: 0.3336 - accuracy: 0.8662 - val_loss: 0.3595 - val_accuracy: 0.8531\n",
      "Epoch 64/100\n",
      "128/128 [==============================] - 0s 1ms/step - loss: 0.3335 - accuracy: 0.8677 - val_loss: 0.3598 - val_accuracy: 0.8525\n",
      "Epoch 65/100\n",
      "128/128 [==============================] - 0s 1ms/step - loss: 0.3330 - accuracy: 0.8691 - val_loss: 0.3596 - val_accuracy: 0.8525\n",
      "Epoch 66/100\n",
      "128/128 [==============================] - 0s 1ms/step - loss: 0.3320 - accuracy: 0.8683 - val_loss: 0.3592 - val_accuracy: 0.8525\n",
      "Epoch 67/100\n",
      "128/128 [==============================] - 0s 1ms/step - loss: 0.3319 - accuracy: 0.8658 - val_loss: 0.3593 - val_accuracy: 0.8550\n",
      "Epoch 68/100\n",
      "128/128 [==============================] - 0s 1ms/step - loss: 0.3316 - accuracy: 0.8678 - val_loss: 0.3591 - val_accuracy: 0.8550\n",
      "Epoch 69/100\n",
      "128/128 [==============================] - 0s 1ms/step - loss: 0.3314 - accuracy: 0.8675 - val_loss: 0.3603 - val_accuracy: 0.8525\n",
      "Epoch 70/100\n",
      "128/128 [==============================] - 0s 1ms/step - loss: 0.3311 - accuracy: 0.8678 - val_loss: 0.3595 - val_accuracy: 0.8519\n",
      "Epoch 71/100\n",
      "128/128 [==============================] - 0s 1ms/step - loss: 0.3314 - accuracy: 0.8684 - val_loss: 0.3587 - val_accuracy: 0.8569\n",
      "Epoch 72/100\n",
      "128/128 [==============================] - 0s 1ms/step - loss: 0.3305 - accuracy: 0.8656 - val_loss: 0.3580 - val_accuracy: 0.8544\n",
      "Epoch 73/100\n",
      "128/128 [==============================] - 0s 1ms/step - loss: 0.3302 - accuracy: 0.8677 - val_loss: 0.3595 - val_accuracy: 0.8562\n",
      "Epoch 74/100\n",
      "128/128 [==============================] - 0s 1ms/step - loss: 0.3304 - accuracy: 0.8656 - val_loss: 0.3574 - val_accuracy: 0.8562\n",
      "Epoch 75/100\n",
      "128/128 [==============================] - 0s 1ms/step - loss: 0.3305 - accuracy: 0.8670 - val_loss: 0.3584 - val_accuracy: 0.8519\n",
      "Epoch 76/100\n",
      "128/128 [==============================] - 0s 1ms/step - loss: 0.3299 - accuracy: 0.8681 - val_loss: 0.3577 - val_accuracy: 0.8569\n",
      "Epoch 77/100\n",
      "128/128 [==============================] - 0s 1ms/step - loss: 0.3292 - accuracy: 0.8687 - val_loss: 0.3588 - val_accuracy: 0.8562\n",
      "Epoch 78/100\n",
      "128/128 [==============================] - 0s 1ms/step - loss: 0.3293 - accuracy: 0.8659 - val_loss: 0.3577 - val_accuracy: 0.8587\n",
      "Epoch 79/100\n",
      "128/128 [==============================] - 0s 1ms/step - loss: 0.3285 - accuracy: 0.8683 - val_loss: 0.3576 - val_accuracy: 0.8562\n",
      "Epoch 80/100\n",
      "128/128 [==============================] - 0s 1ms/step - loss: 0.3290 - accuracy: 0.8666 - val_loss: 0.3574 - val_accuracy: 0.8581\n",
      "Epoch 81/100\n",
      "128/128 [==============================] - 0s 1ms/step - loss: 0.3281 - accuracy: 0.8664 - val_loss: 0.3577 - val_accuracy: 0.8531\n",
      "Epoch 82/100\n",
      "128/128 [==============================] - 0s 1ms/step - loss: 0.3282 - accuracy: 0.8686 - val_loss: 0.3563 - val_accuracy: 0.8581\n",
      "Epoch 83/100\n",
      "128/128 [==============================] - 0s 1ms/step - loss: 0.3280 - accuracy: 0.8677 - val_loss: 0.3593 - val_accuracy: 0.8575\n",
      "Epoch 84/100\n",
      "128/128 [==============================] - 0s 1ms/step - loss: 0.3282 - accuracy: 0.8675 - val_loss: 0.3579 - val_accuracy: 0.8575\n",
      "Epoch 85/100\n",
      "128/128 [==============================] - 0s 1ms/step - loss: 0.3277 - accuracy: 0.8677 - val_loss: 0.3568 - val_accuracy: 0.8575\n",
      "Epoch 86/100\n",
      "128/128 [==============================] - 0s 2ms/step - loss: 0.3271 - accuracy: 0.8669 - val_loss: 0.3569 - val_accuracy: 0.8562\n",
      "Epoch 87/100\n",
      "128/128 [==============================] - 0s 1ms/step - loss: 0.3275 - accuracy: 0.8678 - val_loss: 0.3572 - val_accuracy: 0.8569\n",
      "Epoch 88/100\n",
      "128/128 [==============================] - 0s 1ms/step - loss: 0.3271 - accuracy: 0.8662 - val_loss: 0.3563 - val_accuracy: 0.8581\n",
      "Epoch 89/100\n",
      "128/128 [==============================] - 0s 1ms/step - loss: 0.3271 - accuracy: 0.8681 - val_loss: 0.3566 - val_accuracy: 0.8575\n",
      "Epoch 90/100\n",
      "128/128 [==============================] - 0s 1ms/step - loss: 0.3273 - accuracy: 0.8681 - val_loss: 0.3568 - val_accuracy: 0.8581\n",
      "Epoch 91/100\n",
      "128/128 [==============================] - 0s 1ms/step - loss: 0.3267 - accuracy: 0.8691 - val_loss: 0.3573 - val_accuracy: 0.8556\n",
      "Epoch 92/100\n",
      "128/128 [==============================] - 0s 1ms/step - loss: 0.3268 - accuracy: 0.8680 - val_loss: 0.3565 - val_accuracy: 0.8569\n",
      "Epoch 93/100\n",
      "128/128 [==============================] - 0s 1ms/step - loss: 0.3265 - accuracy: 0.8683 - val_loss: 0.3570 - val_accuracy: 0.8556\n",
      "Epoch 94/100\n",
      "128/128 [==============================] - 0s 1ms/step - loss: 0.3265 - accuracy: 0.8684 - val_loss: 0.3573 - val_accuracy: 0.8581\n",
      "Epoch 95/100\n",
      "128/128 [==============================] - 0s 1ms/step - loss: 0.3260 - accuracy: 0.8675 - val_loss: 0.3577 - val_accuracy: 0.8550\n",
      "Epoch 96/100\n",
      "128/128 [==============================] - 0s 1ms/step - loss: 0.3259 - accuracy: 0.8697 - val_loss: 0.3565 - val_accuracy: 0.8594\n",
      "Epoch 97/100\n",
      "128/128 [==============================] - 0s 1ms/step - loss: 0.3253 - accuracy: 0.8689 - val_loss: 0.3564 - val_accuracy: 0.8569\n",
      "Epoch 98/100\n",
      "128/128 [==============================] - 0s 1ms/step - loss: 0.3260 - accuracy: 0.8673 - val_loss: 0.3578 - val_accuracy: 0.8587\n",
      "Epoch 99/100\n",
      "128/128 [==============================] - 0s 1ms/step - loss: 0.3256 - accuracy: 0.8678 - val_loss: 0.3575 - val_accuracy: 0.8581\n",
      "Epoch 100/100\n",
      "128/128 [==============================] - 0s 1ms/step - loss: 0.3253 - accuracy: 0.8692 - val_loss: 0.3561 - val_accuracy: 0.8587\n"
     ]
    }
   ],
   "source": [
    "#train the model with training data\n",
    "history = model.fit(X_train_trf,y_train,batch_size=50,epochs=100,verbose=1,validation_split=0.2)"
   ]
  },
  {
   "cell_type": "code",
   "execution_count": 18,
   "id": "7381a473",
   "metadata": {
    "execution": {
     "iopub.execute_input": "2024-02-09T19:43:06.099543Z",
     "iopub.status.busy": "2024-02-09T19:43:06.098877Z",
     "iopub.status.idle": "2024-02-09T19:43:06.221097Z",
     "shell.execute_reply": "2024-02-09T19:43:06.221539Z",
     "shell.execute_reply.started": "2024-02-09T17:57:27.442466Z"
    },
    "papermill": {
     "duration": 0.273547,
     "end_time": "2024-02-09T19:43:06.221683",
     "exception": false,
     "start_time": "2024-02-09T19:43:05.948136",
     "status": "completed"
    },
    "tags": []
   },
   "outputs": [],
   "source": [
    "#get the prediction for the test data\n",
    "y_pred = model.predict(X_test_trf)"
   ]
  },
  {
   "cell_type": "code",
   "execution_count": 19,
   "id": "90f917ee",
   "metadata": {
    "execution": {
     "iopub.execute_input": "2024-02-09T19:43:06.525540Z",
     "iopub.status.busy": "2024-02-09T19:43:06.524864Z",
     "iopub.status.idle": "2024-02-09T19:43:06.529814Z",
     "shell.execute_reply": "2024-02-09T19:43:06.530191Z",
     "shell.execute_reply.started": "2024-02-09T17:57:31.582137Z"
    },
    "papermill": {
     "duration": 0.155478,
     "end_time": "2024-02-09T19:43:06.530347",
     "exception": false,
     "start_time": "2024-02-09T19:43:06.374869",
     "status": "completed"
    },
    "tags": []
   },
   "outputs": [
    {
     "data": {
      "text/plain": [
       "array([[0.21371096],\n",
       "       [0.27905884],\n",
       "       [0.10922047],\n",
       "       ...,\n",
       "       [0.17115593],\n",
       "       [0.2630121 ],\n",
       "       [0.20750931]], dtype=float32)"
      ]
     },
     "execution_count": 19,
     "metadata": {},
     "output_type": "execute_result"
    }
   ],
   "source": [
    "y_pred"
   ]
  },
  {
   "cell_type": "code",
   "execution_count": 20,
   "id": "f8713fb1",
   "metadata": {
    "execution": {
     "iopub.execute_input": "2024-02-09T19:43:06.841305Z",
     "iopub.status.busy": "2024-02-09T19:43:06.840790Z",
     "iopub.status.idle": "2024-02-09T19:43:06.845373Z",
     "shell.execute_reply": "2024-02-09T19:43:06.845781Z",
     "shell.execute_reply.started": "2024-02-09T17:57:41.132099Z"
    },
    "papermill": {
     "duration": 0.165218,
     "end_time": "2024-02-09T19:43:06.845894",
     "exception": false,
     "start_time": "2024-02-09T19:43:06.680676",
     "status": "completed"
    },
    "tags": []
   },
   "outputs": [
    {
     "data": {
      "text/plain": [
       "[array([[-0.4019992 ,  0.4726981 , -0.07185597,  0.63109785, -0.36781135,\n",
       "          0.07604662,  0.38202816,  0.03766243, -0.71254355,  0.27916735,\n",
       "         -1.4393101 ],\n",
       "        [ 0.3239763 ,  0.29309538,  0.14992194,  0.49676841, -0.3070392 ,\n",
       "          0.34428376, -0.13342407, -0.06513162, -0.44198698, -0.06883445,\n",
       "          0.47764444],\n",
       "        [-0.36338067,  0.33481842,  0.26903793,  0.2328168 , -0.29647738,\n",
       "         -0.08549057,  0.5911403 , -0.95280945, -0.63498455,  0.2661914 ,\n",
       "          0.11746721],\n",
       "        [ 0.7996398 ,  0.44081464,  0.621947  ,  0.23112969,  0.04932995,\n",
       "          0.34077224,  0.7697783 ,  0.33132827,  0.533881  ,  0.08247615,\n",
       "          0.04291429],\n",
       "        [ 0.08286686,  0.08489573, -0.7201747 , -0.40593424,  0.24109274,\n",
       "         -0.21141875,  0.23259354, -0.35583338, -0.3956856 ,  0.3020971 ,\n",
       "          0.02313172],\n",
       "        [-0.8328616 , -1.2012979 , -0.36903766, -0.98229474, -0.90585136,\n",
       "         -0.12554653, -0.66688436, -0.24568605, -0.84976506, -0.8093022 ,\n",
       "         -0.5565118 ],\n",
       "        [-0.18306394, -0.00624309,  0.31764802, -0.01650063,  0.62229913,\n",
       "         -0.06406154,  0.26982096,  0.2425302 ,  0.04763397,  0.66358906,\n",
       "          0.15821467],\n",
       "        [ 0.19795474,  0.30218127,  0.03454155, -0.13391228,  0.7782523 ,\n",
       "         -0.05624433, -0.02100583,  0.7257817 ,  0.08853635, -0.5500249 ,\n",
       "          0.27757484],\n",
       "        [-0.16412218, -0.2076803 , -0.22195876, -0.10547272,  0.44995368,\n",
       "         -0.38105485, -0.26570478, -0.40230078, -0.5340979 ,  0.27572536,\n",
       "         -0.5750611 ],\n",
       "        [-0.2443415 ,  0.03101654,  0.42690092,  0.21542929,  0.35708106,\n",
       "         -0.57069933,  0.50321686, -0.27528653,  0.33725962, -0.30697647,\n",
       "          0.01649768],\n",
       "        [-0.42772382, -0.49520487, -0.44739035, -0.03849137,  0.01179652,\n",
       "         -0.45925346,  0.20644844,  0.10643536,  0.2543454 ,  0.32775038,\n",
       "          0.09018487]], dtype=float32),\n",
       " array([ 0.1509722 , -0.10744957,  0.03755004,  0.04480765,  0.26103267,\n",
       "         0.16019885,  0.5871921 ,  0.15419787, -0.16527475,  0.52430296,\n",
       "         0.7778868 ], dtype=float32)]"
      ]
     },
     "execution_count": 20,
     "metadata": {},
     "output_type": "execute_result"
    }
   ],
   "source": [
    "#showing the 2nd layer weights and bias of the model\n",
    "model.layers[1].get_weights()"
   ]
  },
  {
   "cell_type": "code",
   "execution_count": 21,
   "id": "4c1b2f07",
   "metadata": {
    "execution": {
     "iopub.execute_input": "2024-02-09T19:43:07.153487Z",
     "iopub.status.busy": "2024-02-09T19:43:07.152973Z",
     "iopub.status.idle": "2024-02-09T19:43:07.155613Z",
     "shell.execute_reply": "2024-02-09T19:43:07.156013Z",
     "shell.execute_reply.started": "2024-02-09T17:58:51.057268Z"
    },
    "papermill": {
     "duration": 0.157028,
     "end_time": "2024-02-09T19:43:07.156126",
     "exception": false,
     "start_time": "2024-02-09T19:43:06.999098",
     "status": "completed"
    },
    "tags": []
   },
   "outputs": [],
   "source": [
    "y_pred = y_pred.argmax(axis=-1)"
   ]
  },
  {
   "cell_type": "code",
   "execution_count": 22,
   "id": "8ee49aba",
   "metadata": {
    "execution": {
     "iopub.execute_input": "2024-02-09T19:43:07.464537Z",
     "iopub.status.busy": "2024-02-09T19:43:07.464028Z",
     "iopub.status.idle": "2024-02-09T19:43:07.467723Z",
     "shell.execute_reply": "2024-02-09T19:43:07.468164Z",
     "shell.execute_reply.started": "2024-02-09T18:27:21.186181Z"
    },
    "papermill": {
     "duration": 0.159112,
     "end_time": "2024-02-09T19:43:07.468301",
     "exception": false,
     "start_time": "2024-02-09T19:43:07.309189",
     "status": "completed"
    },
    "tags": []
   },
   "outputs": [
    {
     "data": {
      "text/plain": [
       "array([0, 0, 0, ..., 0, 0, 0])"
      ]
     },
     "execution_count": 22,
     "metadata": {},
     "output_type": "execute_result"
    }
   ],
   "source": [
    "y_pred"
   ]
  },
  {
   "cell_type": "code",
   "execution_count": 23,
   "id": "d6946aad",
   "metadata": {
    "execution": {
     "iopub.execute_input": "2024-02-09T19:43:07.772901Z",
     "iopub.status.busy": "2024-02-09T19:43:07.772419Z",
     "iopub.status.idle": "2024-02-09T19:43:07.777572Z",
     "shell.execute_reply": "2024-02-09T19:43:07.777157Z",
     "shell.execute_reply.started": "2024-02-09T17:58:56.434057Z"
    },
    "papermill": {
     "duration": 0.159675,
     "end_time": "2024-02-09T19:43:07.777678",
     "exception": false,
     "start_time": "2024-02-09T19:43:07.618003",
     "status": "completed"
    },
    "tags": []
   },
   "outputs": [
    {
     "data": {
      "text/plain": [
       "0.7975"
      ]
     },
     "execution_count": 23,
     "metadata": {},
     "output_type": "execute_result"
    }
   ],
   "source": [
    "#checking the accuracy of the model\n",
    "from sklearn.metrics import accuracy_score\n",
    "accuracy_score(y_test,y_pred)"
   ]
  },
  {
   "cell_type": "code",
   "execution_count": 24,
   "id": "b51d7db1",
   "metadata": {
    "execution": {
     "iopub.execute_input": "2024-02-09T19:43:08.086998Z",
     "iopub.status.busy": "2024-02-09T19:43:08.086445Z",
     "iopub.status.idle": "2024-02-09T19:43:08.226048Z",
     "shell.execute_reply": "2024-02-09T19:43:08.226818Z",
     "shell.execute_reply.started": "2024-02-09T18:00:14.672716Z"
    },
    "papermill": {
     "duration": 0.296934,
     "end_time": "2024-02-09T19:43:08.226976",
     "exception": false,
     "start_time": "2024-02-09T19:43:07.930042",
     "status": "completed"
    },
    "tags": []
   },
   "outputs": [
    {
     "data": {
      "text/plain": [
       "[<matplotlib.lines.Line2D at 0x7d533c49cb90>]"
      ]
     },
     "execution_count": 24,
     "metadata": {},
     "output_type": "execute_result"
    },
    {
     "data": {
      "image/png": "[encoded data removed]",
      "text/plain": [
       "<Figure size 432x288 with 1 Axes>"
      ]
     },
     "metadata": {
      "needs_background": "light"
     },
     "output_type": "display_data"
    }
   ],
   "source": [
    "import matplotlib.pyplot as plt\n",
    "\n",
    "plt.plot(history.history['loss'])\n",
    "plt.plot(history.history['val_loss'])"
   ]
  },
  {
   "cell_type": "code",
   "execution_count": 25,
   "id": "f8eb14c8",
   "metadata": {
    "execution": {
     "iopub.execute_input": "2024-02-09T19:43:08.538055Z",
     "iopub.status.busy": "2024-02-09T19:43:08.537583Z",
     "iopub.status.idle": "2024-02-09T19:43:08.654413Z",
     "shell.execute_reply": "2024-02-09T19:43:08.654961Z",
     "shell.execute_reply.started": "2024-02-09T18:24:55.607843Z"
    },
    "papermill": {
     "duration": 0.273065,
     "end_time": "2024-02-09T19:43:08.655095",
     "exception": false,
     "start_time": "2024-02-09T19:43:08.382030",
     "status": "completed"
    },
    "tags": []
   },
   "outputs": [
    {
     "data": {
      "text/plain": [
       "[<matplotlib.lines.Line2D at 0x7d533dd92310>]"
      ]
     },
     "execution_count": 25,
     "metadata": {},
     "output_type": "execute_result"
    },
    {
     "data": {
      "image/png": "[encoded data removed]",
      "text/plain": [
       "<Figure size 432x288 with 1 Axes>"
      ]
     },
     "metadata": {
      "needs_background": "light"
     },
     "output_type": "display_data"
    }
   ],
   "source": [
    "plt.plot(history.history['accuracy'])\n",
    "plt.plot(history.history['val_accuracy'])"
   ]
  },
  {
   "cell_type": "code",
   "execution_count": null,
   "id": "35e70b4c",
   "metadata": {
    "papermill": {
     "duration": 0.151769,
     "end_time": "2024-02-09T19:43:08.964147",
     "exception": false,
     "start_time": "2024-02-09T19:43:08.812378",
     "status": "completed"
    },
    "tags": []
   },
   "outputs": [],
   "source": []
  }
 ],
 "metadata": {
  "kaggle": {
   "accelerator": "none",
   "dataSources": [
    {
     "datasetId": 869651,
     "sourceId": 1481789,
     "sourceType": "datasetVersion"
    }
   ],
   "dockerImageVersionId": 30170,
   "isGpuEnabled": false,
   "isInternetEnabled": false,
   "language": "python",
   "sourceType": "notebook"
  },
  "kernelspec": {
   "display_name": "Python 3",
   "language": "python",
   "name": "python3"
  },
  "language_info": {
   "codemirror_mode": {
    "name": "ipython",
    "version": 3
   },
   "file_extension": ".py",
   "mimetype": "text/x-python",
   "name": "python",
   "nbconvert_exporter": "python",
   "pygments_lexer": "ipython3",
   "version": "3.7.12"
  },
  "papermill": {
   "default_parameters": {},
   "duration": 40.220346,
   "end_time": "2024-02-09T19:43:11.831834",
   "environment_variables": {},
   "exception": null,
   "input_path": "__notebook__.ipynb",
   "output_path": "__notebook__.ipynb",
   "parameters": {},
   "start_time": "2024-02-09T19:42:31.611488",
   "version": "2.3.3"
  }
 },
 "nbformat": 4,
 "nbformat_minor": 5
}
